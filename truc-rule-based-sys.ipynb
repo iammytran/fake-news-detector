{
 "cells": [
  {
   "cell_type": "markdown",
   "metadata": {},
   "source": [
    "# 1. Đọc dataframe"
   ]
  },
  {
   "cell_type": "code",
<<<<<<< HEAD
<<<<<<< HEAD
   "execution_count": 4,
=======
   "execution_count": 94,
>>>>>>> 70b5dcd (truc lan 2)
=======
   "execution_count": 1,
>>>>>>> 2d7b5b4 (truc lan 3)
   "metadata": {},
   "outputs": [],
   "source": [
    "import os\n",
    "import json\n",
    "import pandas as pd\n",
    "\n",
    "folder_paths = {\n",
    "    'data/raw/fake': 'Fake',\n",
    "    'data/raw/real': 'Real'\n",
    "}\n",
    "\n",
    "dfs = [] \n",
    "\n",
    "for relative_path, label in folder_paths.items():\n",
    "    folder_path = os.path.abspath(relative_path)\n",
    "    json_files = [f for f in os.listdir(folder_path) if f.endswith('.json')]  # Lọc file JSON\n",
    "\n",
    "    for file in json_files:\n",
    "        file_path = os.path.join(folder_path, file)  # Đường dẫn file JSON\n",
    "        \n",
    "        try:\n",
    "            # Đọc file JSON\n",
    "            with open(file_path, \"r\", encoding=\"utf-8\") as f:\n",
    "                data = json.load(f)\n",
    "\n",
    "            # Nếu JSON là dictionary thay vì danh sách, chuyển thành danh sách\n",
    "            if isinstance(data, dict):\n",
    "                data = [data]\n",
    "\n",
    "            # Chuyển đổi thành DataFrame\n",
    "            df = pd.DataFrame(data)\n",
    "\n",
    "            # Kiểm tra nếu DataFrame không có dòng nào\n",
    "            if df.shape[0] == 0:\n",
    "                print(f\"File {file} không có dữ liệu.\")\n",
    "                continue\n",
    "\n",
    "            # Trích xuất ID từ tên file (Fake_68, Real_15, ...)\n",
    "            file_parts = file.split(\"_\")  # Tách chuỗi theo dấu \"_\"\n",
    "            file_id = \"_\".join(file_parts[-2:]).replace(\".json\", \"\")  # Lấy phần cuối của tên file\n",
    "            \n",
    "            # Thống nhất maintext và text thành maintext\n",
    "            if \"text\" in df.columns:\n",
    "                df.rename(columns={\"text\": \"maintext\"}, inplace=True)\n",
    "            if \"maintext\" not in df.columns:  \n",
    "                df[\"maintext\"] = \"\"  # Nếu không có cả 2, đặt giá trị rỗng\n",
    "\n",
    "            # Kiểm tra và xử lý cột \"authors\"\n",
    "            if \"authors\" in df.columns:\n",
    "                df[\"authors\"] = df[\"authors\"].apply(lambda x: \", \".join(x) if isinstance(x, list) and len(x) > 0 else \"\")\n",
    "\n",
    "            # Thêm cột ID và target (Fake/Real)\n",
    "            df['id'] = file_id  \n",
    "            df['target'] = label  \n",
    "\n",
    "            dfs.append(df)\n",
    "\n",
    "        except Exception as e:\n",
    "            print(f\"Lỗi khi đọc file {file}: {e}\")\n",
    "\n",
    "# Gộp tất cả DataFrame lại (giữ tất cả cột)\n",
    "df = pd.concat(dfs, ignore_index=True, join='outer')\n",
    "\n",
    "# Điền giá trị trống bằng chuỗi rỗng\n",
    "df = df.fillna('')\n",
    "\n",
    "# Reset index\n",
    "df.reset_index(drop=True, inplace=True)\n"
   ]
  },
  {
   "cell_type": "code",
<<<<<<< HEAD
<<<<<<< HEAD
   "execution_count": 6,
=======
   "execution_count": 95,
>>>>>>> 70b5dcd (truc lan 2)
=======
   "execution_count": 2,
>>>>>>> 2d7b5b4 (truc lan 3)
   "metadata": {},
   "outputs": [
    {
     "data": {
      "text/html": [
       "<div>\n",
       "<style scoped>\n",
       "    .dataframe tbody tr th:only-of-type {\n",
       "        vertical-align: middle;\n",
       "    }\n",
       "\n",
       "    .dataframe tbody tr th {\n",
       "        vertical-align: top;\n",
       "    }\n",
       "\n",
       "    .dataframe thead th {\n",
       "        text-align: right;\n",
       "    }\n",
       "</style>\n",
       "<table border=\"1\" class=\"dataframe\">\n",
       "  <thead>\n",
       "    <tr style=\"text-align: right;\">\n",
       "      <th></th>\n",
       "      <th>id</th>\n",
       "      <th>authors</th>\n",
       "      <th>source_domain</th>\n",
       "      <th>language</th>\n",
       "      <th>title</th>\n",
       "      <th>description</th>\n",
       "      <th>maintext</th>\n",
       "      <th>target</th>\n",
       "    </tr>\n",
       "  </thead>\n",
       "  <tbody>\n",
       "    <tr>\n",
       "      <th>0</th>\n",
       "      <td>Fake_0</td>\n",
       "      <td></td>\n",
       "      <td>2sao.vn</td>\n",
       "      <td>vi</td>\n",
       "      <td>Con gái chính là người tình kiếp trước của cha...</td>\n",
       "      <td>Tình phụ tử: Cách yêu thương của cha giành cho...</td>\n",
       "      <td>Thế nhưng, dù không nói ra thì cha vĩnh viễn l...</td>\n",
       "      <td>Fake</td>\n",
       "    </tr>\n",
       "    <tr>\n",
       "      <th>1</th>\n",
       "      <td>Fake_1</td>\n",
       "      <td>Văn Trình</td>\n",
       "      <td>binhluan.biz</td>\n",
       "      <td>en</td>\n",
       "      <td>Thủ tướng Abe cúi đầu xin lỗi vì hành động phi...</td>\n",
       "      <td></td>\n",
       "      <td>Theo Sankei Sports, sáng nay Thủ tướng Nhật Bả...</td>\n",
       "      <td>Fake</td>\n",
       "    </tr>\n",
       "    <tr>\n",
       "      <th>2</th>\n",
       "      <td>Fake_10</td>\n",
       "      <td></td>\n",
       "      <td>suckhoe.vnexpress.net</td>\n",
       "      <td>vi</td>\n",
       "      <td>Bức vẽ giúp bạn đánh giá mức độ stress của bản...</td>\n",
       "      <td>Bức vẽ gồm một hình cầu dường như đang trượt m...</td>\n",
       "      <td>Nhìn bức tranh, bạn có thể thấy vòng tròn đang...</td>\n",
       "      <td>Fake</td>\n",
       "    </tr>\n",
       "    <tr>\n",
       "      <th>3</th>\n",
       "      <td>Fake_100</td>\n",
       "      <td></td>\n",
       "      <td>www.vietgiaitri.com</td>\n",
       "      <td>vi</td>\n",
       "      <td>YÊU RÂU XANH (P51): Câu chuyện động trời sau t...</td>\n",
       "      <td>Đúng lúc đó, một người hàng xóm nhà bà H sang ...</td>\n",
       "      <td>Sau khi vụ án xảy ra, tất cả mọi người đều khô...</td>\n",
       "      <td>Fake</td>\n",
       "    </tr>\n",
       "    <tr>\n",
       "      <th>4</th>\n",
       "      <td>Fake_101</td>\n",
       "      <td></td>\n",
       "      <td>mangxahoi.net</td>\n",
       "      <td>vi</td>\n",
       "      <td>NÓNG : xử phạt 10 đối tượng \"bom\" hàng \" Lợi d...</td>\n",
       "      <td></td>\n",
       "      <td>ĐANG RẤT QUÁ TẢI, MONG MỌI NGƯỜI Ý THỨC! NGƯỜI...</td>\n",
       "      <td>Fake</td>\n",
       "    </tr>\n",
       "  </tbody>\n",
       "</table>\n",
       "</div>"
      ],
      "text/plain": [
       "         id    authors          source_domain language  \\\n",
       "0    Fake_0                           2sao.vn       vi   \n",
       "1    Fake_1  Văn Trình           binhluan.biz       en   \n",
       "2   Fake_10             suckhoe.vnexpress.net       vi   \n",
       "3  Fake_100               www.vietgiaitri.com       vi   \n",
       "4  Fake_101                     mangxahoi.net       vi   \n",
       "\n",
       "                                               title  \\\n",
       "0  Con gái chính là người tình kiếp trước của cha...   \n",
       "1  Thủ tướng Abe cúi đầu xin lỗi vì hành động phi...   \n",
       "2  Bức vẽ giúp bạn đánh giá mức độ stress của bản...   \n",
       "3  YÊU RÂU XANH (P51): Câu chuyện động trời sau t...   \n",
       "4  NÓNG : xử phạt 10 đối tượng \"bom\" hàng \" Lợi d...   \n",
       "\n",
       "                                         description  \\\n",
       "0  Tình phụ tử: Cách yêu thương của cha giành cho...   \n",
       "1                                                      \n",
       "2  Bức vẽ gồm một hình cầu dường như đang trượt m...   \n",
       "3  Đúng lúc đó, một người hàng xóm nhà bà H sang ...   \n",
       "4                                                      \n",
       "\n",
       "                                            maintext target  \n",
       "0  Thế nhưng, dù không nói ra thì cha vĩnh viễn l...   Fake  \n",
       "1  Theo Sankei Sports, sáng nay Thủ tướng Nhật Bả...   Fake  \n",
       "2  Nhìn bức tranh, bạn có thể thấy vòng tròn đang...   Fake  \n",
       "3  Sau khi vụ án xảy ra, tất cả mọi người đều khô...   Fake  \n",
       "4  ĐANG RẤT QUÁ TẢI, MONG MỌI NGƯỜI Ý THỨC! NGƯỜI...   Fake  "
      ]
     },
<<<<<<< HEAD
<<<<<<< HEAD
     "execution_count": 6,
=======
     "execution_count": 95,
>>>>>>> 70b5dcd (truc lan 2)
=======
     "execution_count": 2,
>>>>>>> 2d7b5b4 (truc lan 3)
     "metadata": {},
     "output_type": "execute_result"
    }
   ],
   "source": [
    "df = df[['id', 'authors', 'source_domain', 'language', 'title', 'description', 'maintext', 'target']]\n",
    "df.reset_index(drop=True, inplace=True)\n",
    "df.head()"
   ]
  },
  {
   "cell_type": "code",
<<<<<<< HEAD
<<<<<<< HEAD
   "execution_count": 7,
=======
   "execution_count": 96,
>>>>>>> 70b5dcd (truc lan 2)
=======
   "execution_count": 3,
>>>>>>> 2d7b5b4 (truc lan 3)
   "metadata": {},
   "outputs": [
    {
     "data": {
      "text/plain": [
       "(260, 8)"
      ]
     },
<<<<<<< HEAD
<<<<<<< HEAD
     "execution_count": 7,
=======
     "execution_count": 96,
>>>>>>> 70b5dcd (truc lan 2)
=======
     "execution_count": 3,
>>>>>>> 2d7b5b4 (truc lan 3)
     "metadata": {},
     "output_type": "execute_result"
    }
   ],
   "source": [
    "df.shape"
   ]
  },
  {
   "cell_type": "markdown",
   "metadata": {},
   "source": [
    "# 2. Tiền xử lí dữ liệu"
   ]
  },
  {
   "cell_type": "code",
<<<<<<< HEAD
<<<<<<< HEAD
   "execution_count": 8,
=======
   "execution_count": 97,
>>>>>>> 70b5dcd (truc lan 2)
=======
   "execution_count": 4,
>>>>>>> 2d7b5b4 (truc lan 3)
   "metadata": {},
   "outputs": [
    {
     "data": {
      "text/html": [
       "<div>\n",
       "<style scoped>\n",
       "    .dataframe tbody tr th:only-of-type {\n",
       "        vertical-align: middle;\n",
       "    }\n",
       "\n",
       "    .dataframe tbody tr th {\n",
       "        vertical-align: top;\n",
       "    }\n",
       "\n",
       "    .dataframe thead th {\n",
       "        text-align: right;\n",
       "    }\n",
       "</style>\n",
       "<table border=\"1\" class=\"dataframe\">\n",
       "  <thead>\n",
       "    <tr style=\"text-align: right;\">\n",
       "      <th></th>\n",
       "      <th>id</th>\n",
       "      <th>authors</th>\n",
       "      <th>source_domain</th>\n",
       "      <th>language</th>\n",
       "      <th>title</th>\n",
       "      <th>description</th>\n",
       "      <th>maintext</th>\n",
       "      <th>target</th>\n",
       "    </tr>\n",
       "  </thead>\n",
       "  <tbody>\n",
       "    <tr>\n",
       "      <th>count</th>\n",
       "      <td>260</td>\n",
       "      <td>260</td>\n",
       "      <td>260</td>\n",
       "      <td>260</td>\n",
       "      <td>260</td>\n",
       "      <td>260</td>\n",
       "      <td>260</td>\n",
       "      <td>260</td>\n",
       "    </tr>\n",
       "    <tr>\n",
       "      <th>unique</th>\n",
       "      <td>260</td>\n",
       "      <td>32</td>\n",
       "      <td>54</td>\n",
       "      <td>3</td>\n",
       "      <td>258</td>\n",
       "      <td>226</td>\n",
       "      <td>259</td>\n",
       "      <td>2</td>\n",
       "    </tr>\n",
       "    <tr>\n",
       "      <th>top</th>\n",
       "      <td>Fake_0</td>\n",
       "      <td></td>\n",
       "      <td>vnexpress.net</td>\n",
       "      <td>vi</td>\n",
       "      <td>Những dấu hiệu nhận biết nhà bạn đang có ma và...</td>\n",
       "      <td></td>\n",
       "      <td>Những dấu hiệu nhận biết nhà có ma đơn giản nh...</td>\n",
       "      <td>Fake</td>\n",
       "    </tr>\n",
       "    <tr>\n",
       "      <th>freq</th>\n",
       "      <td>1</td>\n",
       "      <td>209</td>\n",
       "      <td>74</td>\n",
       "      <td>233</td>\n",
       "      <td>2</td>\n",
       "      <td>34</td>\n",
       "      <td>2</td>\n",
       "      <td>132</td>\n",
       "    </tr>\n",
       "  </tbody>\n",
       "</table>\n",
       "</div>"
      ],
      "text/plain": [
       "            id authors  source_domain language  \\\n",
       "count      260     260            260      260   \n",
       "unique     260      32             54        3   \n",
       "top     Fake_0          vnexpress.net       vi   \n",
       "freq         1     209             74      233   \n",
       "\n",
       "                                                    title description  \\\n",
       "count                                                 260         260   \n",
       "unique                                                258         226   \n",
       "top     Những dấu hiệu nhận biết nhà bạn đang có ma và...               \n",
       "freq                                                    2          34   \n",
       "\n",
       "                                                 maintext target  \n",
       "count                                                 260    260  \n",
       "unique                                                259      2  \n",
       "top     Những dấu hiệu nhận biết nhà có ma đơn giản nh...   Fake  \n",
       "freq                                                    2    132  "
      ]
     },
<<<<<<< HEAD
<<<<<<< HEAD
     "execution_count": 8,
=======
     "execution_count": 97,
>>>>>>> 70b5dcd (truc lan 2)
=======
     "execution_count": 4,
>>>>>>> 2d7b5b4 (truc lan 3)
     "metadata": {},
     "output_type": "execute_result"
    }
   ],
   "source": [
    "df.describe()"
   ]
  },
  {
   "cell_type": "markdown",
   "metadata": {},
   "source": [
    "Thuộc tính Language có quá ít giá trị (vi, en, rỗng) so với các thuộc tính khác, vì vậy language sẽ không đóng vai trò nhiều trong decision tree."
   ]
  },
  {
   "cell_type": "code",
<<<<<<< HEAD
<<<<<<< HEAD
   "execution_count": 9,
=======
   "execution_count": 98,
>>>>>>> 70b5dcd (truc lan 2)
=======
   "execution_count": 5,
>>>>>>> 2d7b5b4 (truc lan 3)
   "metadata": {},
   "outputs": [
    {
     "data": {
      "text/html": [
       "<div>\n",
       "<style scoped>\n",
       "    .dataframe tbody tr th:only-of-type {\n",
       "        vertical-align: middle;\n",
       "    }\n",
       "\n",
       "    .dataframe tbody tr th {\n",
       "        vertical-align: top;\n",
       "    }\n",
       "\n",
       "    .dataframe thead th {\n",
       "        text-align: right;\n",
       "    }\n",
       "</style>\n",
       "<table border=\"1\" class=\"dataframe\">\n",
       "  <thead>\n",
       "    <tr style=\"text-align: right;\">\n",
       "      <th></th>\n",
       "      <th>id</th>\n",
       "      <th>authors</th>\n",
       "      <th>source_domain</th>\n",
       "      <th>language</th>\n",
       "      <th>title</th>\n",
       "      <th>description</th>\n",
       "      <th>maintext</th>\n",
       "      <th>target</th>\n",
       "    </tr>\n",
       "  </thead>\n",
       "  <tbody>\n",
       "    <tr>\n",
       "      <th>69</th>\n",
       "      <td>Fake_42</td>\n",
       "      <td></td>\n",
       "      <td>tinvn.info</td>\n",
       "      <td>vi</td>\n",
       "      <td>Những dấu hiệu nhận biết nhà bạn đang có ma và...</td>\n",
       "      <td>Những dấu hiệu nhận biết nhà bạn đang có ma và...</td>\n",
       "      <td>Những dấu hiệu nhận biết nhà có ma đơn giản nh...</td>\n",
       "      <td>Fake</td>\n",
       "    </tr>\n",
       "    <tr>\n",
       "      <th>105</th>\n",
       "      <td>Fake_75</td>\n",
       "      <td></td>\n",
       "      <td>tinvn.info</td>\n",
       "      <td>vi</td>\n",
       "      <td>Những dấu hiệu nhận biết nhà bạn đang có ma và...</td>\n",
       "      <td>Những dấu hiệu nhận biết nhà bạn đang có ma và...</td>\n",
       "      <td>Những dấu hiệu nhận biết nhà có ma đơn giản nh...</td>\n",
       "      <td>Fake</td>\n",
       "    </tr>\n",
       "  </tbody>\n",
       "</table>\n",
       "</div>"
      ],
      "text/plain": [
       "          id authors source_domain language  \\\n",
       "69   Fake_42            tinvn.info       vi   \n",
       "105  Fake_75            tinvn.info       vi   \n",
       "\n",
       "                                                 title  \\\n",
       "69   Những dấu hiệu nhận biết nhà bạn đang có ma và...   \n",
       "105  Những dấu hiệu nhận biết nhà bạn đang có ma và...   \n",
       "\n",
       "                                           description  \\\n",
       "69   Những dấu hiệu nhận biết nhà bạn đang có ma và...   \n",
       "105  Những dấu hiệu nhận biết nhà bạn đang có ma và...   \n",
       "\n",
       "                                              maintext target  \n",
       "69   Những dấu hiệu nhận biết nhà có ma đơn giản nh...   Fake  \n",
       "105  Những dấu hiệu nhận biết nhà có ma đơn giản nh...   Fake  "
      ]
     },
<<<<<<< HEAD
<<<<<<< HEAD
     "execution_count": 9,
=======
     "execution_count": 98,
>>>>>>> 70b5dcd (truc lan 2)
=======
     "execution_count": 5,
>>>>>>> 2d7b5b4 (truc lan 3)
     "metadata": {},
     "output_type": "execute_result"
    }
   ],
   "source": [
    "# Kiểm tra duplicates\n",
    "df[df.duplicated(subset=df.columns.difference(['id']), keep=False)]\n"
   ]
  },
  {
   "cell_type": "code",
<<<<<<< HEAD
<<<<<<< HEAD
   "execution_count": 10,
=======
   "execution_count": 99,
>>>>>>> 70b5dcd (truc lan 2)
=======
   "execution_count": 6,
>>>>>>> 2d7b5b4 (truc lan 3)
   "metadata": {},
   "outputs": [],
   "source": [
    "df.drop(index=105, inplace=True)  # Xóa dòng có index = 105\n",
    "df.reset_index(drop=True, inplace=True)  # Reset index, bỏ index cũ\n"
   ]
  },
  {
   "cell_type": "code",
<<<<<<< HEAD
<<<<<<< HEAD
   "execution_count": 11,
=======
   "execution_count": 100,
>>>>>>> 70b5dcd (truc lan 2)
=======
   "execution_count": 7,
>>>>>>> 2d7b5b4 (truc lan 3)
   "metadata": {},
   "outputs": [
    {
     "data": {
      "text/plain": [
       "target\n",
       "Fake    131\n",
       "Real    128\n",
       "Name: count, dtype: int64"
      ]
     },
<<<<<<< HEAD
<<<<<<< HEAD
     "execution_count": 11,
=======
     "execution_count": 100,
>>>>>>> 70b5dcd (truc lan 2)
=======
     "execution_count": 7,
>>>>>>> 2d7b5b4 (truc lan 3)
     "metadata": {},
     "output_type": "execute_result"
    }
   ],
   "source": [
    "df['target'].value_counts()  # Tỉ lệ giữa Fake và Real xấp xỉ nhau nên dataset này đã cân bằng (balance)"
   ]
  },
  {
   "cell_type": "markdown",
   "metadata": {},
   "source": [
    "# 3. Tìm rule-based system "
   ]
  },
  {
   "cell_type": "code",
   "execution_count": 8,
   "metadata": {},
   "outputs": [],
   "source": [
    "import numpy as np\n",
    "import matplotlib.pyplot as plt\n",
    "from sklearn.tree import DecisionTreeClassifier, export_text, plot_tree\n",
    "from sklearn.model_selection import train_test_split\n",
    "from sklearn.metrics import accuracy_score\n",
    "\n",
    "# Thiết kế mô hình cho Decision tree theo tiêu chuẩn entropy\n",
    "def model_tree(depth):\n",
    "    model = DecisionTreeClassifier(criterion='entropy', max_depth=depth, random_state=42) \n",
    "    return model\n",
    "\n",
    "\n",
    "# Tính accuracy của Decision tree\n",
    "def calculate_acc(dataframe, x_features, y_feature, model=model_tree):  \n",
    "    # Gán X là tập các biến độc lập và y là biến phụ thuộc (biến dự đoán)    \n",
    "    X = x_features\n",
    "    y = dataframe[y_feature].values\n",
    "\n",
    "    X_train, X_test, y_train, y_test = train_test_split(X, y, test_size=0.2, random_state=42)  # Lấy 80% - 20% dataset để train - test\n",
    "\n",
    "    # Huấn luyện mô hình\n",
    "    model.fit(X_train, y_train)\n",
    "\n",
    "    # Tính acc\n",
    "    y_pred = model.predict(X_test)\n",
    "    accuracy = accuracy_score(y_test, y_pred)\n",
    "    return f\"Accuracy của Decision Tree: {accuracy:.2%}\"\n",
    "\n",
    "\n",
    "# Biểu diễn Tree\n",
    "def plot_decision_tree(model, x_features):\n",
    "    plt.figure(figsize=(12, 8))\n",
    "    plot_tree(model, feature_names=x_features, class_names=[\"Fake\", \"Real\"], filled=True)\n",
    "    plt.show()\n"
   ]
  },
  {
   "cell_type": "markdown",
   "metadata": {},
   "source": [
    "## 3.1 Tìm RB dựa trên `source_domain` và `authors`"
   ]
  },
  {
   "cell_type": "code",
   "execution_count": 9,
   "metadata": {},
   "outputs": [
    {
     "data": {
      "text/plain": [
       "(259, 3)"
      ]
     },
     "execution_count": 9,
     "metadata": {},
     "output_type": "execute_result"
    }
   ],
   "source": [
    "df1 = df[['authors', 'source_domain', 'target']]\n",
    "df1.shape"
   ]
  },
  {
   "cell_type": "code",
   "execution_count": 10,
   "metadata": {},
   "outputs": [
    {
     "name": "stderr",
     "output_type": "stream",
     "text": [
      "C:\\Users\\VivoBook\\AppData\\Local\\Temp\\ipykernel_18512\\1272835352.py:7: SettingWithCopyWarning: \n",
      "A value is trying to be set on a copy of a slice from a DataFrame.\n",
      "Try using .loc[row_indexer,col_indexer] = value instead\n",
      "\n",
      "See the caveats in the documentation: https://pandas.pydata.org/pandas-docs/stable/user_guide/indexing.html#returning-a-view-versus-a-copy\n",
      "  df1[\"source_domain_encoded\"] = encoder_source.fit_transform(df1[\"source_domain\"])\n",
      "C:\\Users\\VivoBook\\AppData\\Local\\Temp\\ipykernel_18512\\1272835352.py:8: SettingWithCopyWarning: \n",
      "A value is trying to be set on a copy of a slice from a DataFrame.\n",
      "Try using .loc[row_indexer,col_indexer] = value instead\n",
      "\n",
      "See the caveats in the documentation: https://pandas.pydata.org/pandas-docs/stable/user_guide/indexing.html#returning-a-view-versus-a-copy\n",
      "  df1[\"authors_encoded\"] = encoder_authors.fit_transform(df1[\"authors\"])\n"
     ]
    }
   ],
   "source": [
    "# Chuyển đổi 'source_domain' và 'authors' thành số (dùng LabelEncoder)\n",
    "from sklearn.preprocessing import LabelEncoder\n",
    "\n",
    "encoder_source = LabelEncoder()\n",
    "encoder_authors = LabelEncoder()\n",
    "\n",
    "df1[\"source_domain_encoded\"] = encoder_source.fit_transform(df1[\"source_domain\"])\n",
    "df1[\"authors_encoded\"] = encoder_authors.fit_transform(df1[\"authors\"])\n"
   ]
  },
  {
   "cell_type": "code",
   "execution_count": 11,
   "metadata": {},
   "outputs": [
    {
     "name": "stdout",
     "output_type": "stream",
     "text": [
      "Accuracy của Decision Tree: 90.38%\n"
     ]
    },
    {
     "data": {
      "image/png": "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",
      "text/plain": [
       "<Figure size 1200x800 with 1 Axes>"
      ]
     },
     "metadata": {},
     "output_type": "display_data"
    },
    {
     "name": "stdout",
     "output_type": "stream",
     "text": [
      "None\n"
     ]
    }
   ],
   "source": [
    "tree_model1 = model_tree(depth=4)\n",
    "\n",
    "X_le = np.hstack([df1[\"source_domain_encoded\"].values.reshape(-1, 1),\n",
    "                  df1[\"authors_encoded\"].values.reshape(-1, 1)])\n",
    "\n",
    "print(calculate_acc(df1, X_le, 'target', model=tree_model1))\n",
    "print(plot_decision_tree(tree_model1, X_le))\n"
   ]
  },
  {
   "cell_type": "code",
   "execution_count": 12,
   "metadata": {},
   "outputs": [
    {
     "data": {
      "text/html": [
       "<div>\n",
       "<style scoped>\n",
       "    .dataframe tbody tr th:only-of-type {\n",
       "        vertical-align: middle;\n",
       "    }\n",
       "\n",
       "    .dataframe tbody tr th {\n",
       "        vertical-align: top;\n",
       "    }\n",
       "\n",
       "    .dataframe thead th {\n",
       "        text-align: right;\n",
       "    }\n",
       "</style>\n",
       "<table border=\"1\" class=\"dataframe\">\n",
       "  <thead>\n",
       "    <tr style=\"text-align: right;\">\n",
       "      <th></th>\n",
       "      <th>source_domain_encoded</th>\n",
       "      <th>source_domain_original</th>\n",
       "    </tr>\n",
       "  </thead>\n",
       "  <tbody>\n",
       "    <tr>\n",
       "      <th>0</th>\n",
       "      <td>0</td>\n",
       "      <td>2sao.vn</td>\n",
       "    </tr>\n",
       "    <tr>\n",
       "      <th>5</th>\n",
       "      <td>1</td>\n",
       "      <td>anninh247.xyz</td>\n",
       "    </tr>\n",
       "    <tr>\n",
       "      <th>35</th>\n",
       "      <td>2</td>\n",
       "      <td>autoxe.net</td>\n",
       "    </tr>\n",
       "    <tr>\n",
       "      <th>43</th>\n",
       "      <td>3</td>\n",
       "      <td>baoangiang.com.vn</td>\n",
       "    </tr>\n",
       "    <tr>\n",
       "      <th>52</th>\n",
       "      <td>4</td>\n",
       "      <td>baonuocmy.com</td>\n",
       "    </tr>\n",
       "    <tr>\n",
       "      <th>11</th>\n",
       "      <td>5</td>\n",
       "      <td>baophapluat.online</td>\n",
       "    </tr>\n",
       "    <tr>\n",
       "      <th>1</th>\n",
       "      <td>6</td>\n",
       "      <td>binhluan.biz</td>\n",
       "    </tr>\n",
       "    <tr>\n",
       "      <th>29</th>\n",
       "      <td>7</td>\n",
       "      <td>blogxcy.wordpress.com</td>\n",
       "    </tr>\n",
       "    <tr>\n",
       "      <th>6</th>\n",
       "      <td>8</td>\n",
       "      <td>cand.com.vn</td>\n",
       "    </tr>\n",
       "    <tr>\n",
       "      <th>36</th>\n",
       "      <td>9</td>\n",
       "      <td>congtintuc24gio.com</td>\n",
       "    </tr>\n",
       "    <tr>\n",
       "      <th>145</th>\n",
       "      <td>10</td>\n",
       "      <td>dantri.com.vn</td>\n",
       "    </tr>\n",
       "    <tr>\n",
       "      <th>10</th>\n",
       "      <td>11</td>\n",
       "      <td>danviet.vn</td>\n",
       "    </tr>\n",
       "    <tr>\n",
       "      <th>8</th>\n",
       "      <td>12</td>\n",
       "      <td>doanhnghiepvn.vn</td>\n",
       "    </tr>\n",
       "    <tr>\n",
       "      <th>217</th>\n",
       "      <td>13</td>\n",
       "      <td>doisong.vnexpress.net</td>\n",
       "    </tr>\n",
       "    <tr>\n",
       "      <th>206</th>\n",
       "      <td>14</td>\n",
       "      <td>dulich.vnexpress.net</td>\n",
       "    </tr>\n",
       "    <tr>\n",
       "      <th>88</th>\n",
       "      <td>15</td>\n",
       "      <td>giadinhtiepthi.com</td>\n",
       "    </tr>\n",
       "    <tr>\n",
       "      <th>219</th>\n",
       "      <td>16</td>\n",
       "      <td>giaitri.vnexpress.net</td>\n",
       "    </tr>\n",
       "    <tr>\n",
       "      <th>47</th>\n",
       "      <td>17</td>\n",
       "      <td>haiduong.tintuc.vn</td>\n",
       "    </tr>\n",
       "    <tr>\n",
       "      <th>21</th>\n",
       "      <td>18</td>\n",
       "      <td>hanoimoi.com.vn</td>\n",
       "    </tr>\n",
       "    <tr>\n",
       "      <th>132</th>\n",
       "      <td>19</td>\n",
       "      <td>https://news.zing.vn</td>\n",
       "    </tr>\n",
       "    <tr>\n",
       "      <th>20</th>\n",
       "      <td>20</td>\n",
       "      <td>kenh14.vn</td>\n",
       "    </tr>\n",
       "    <tr>\n",
       "      <th>201</th>\n",
       "      <td>21</td>\n",
       "      <td>kinhdoanh.vnexpress.net</td>\n",
       "    </tr>\n",
       "    <tr>\n",
       "      <th>131</th>\n",
       "      <td>22</td>\n",
       "      <td>laodong.vn</td>\n",
       "    </tr>\n",
       "    <tr>\n",
       "      <th>27</th>\n",
       "      <td>23</td>\n",
       "      <td>lichngaytot.com</td>\n",
       "    </tr>\n",
       "    <tr>\n",
       "      <th>4</th>\n",
       "      <td>24</td>\n",
       "      <td>mangxahoi.net</td>\n",
       "    </tr>\n",
       "    <tr>\n",
       "      <th>171</th>\n",
       "      <td>25</td>\n",
       "      <td>news.zing.vn</td>\n",
       "    </tr>\n",
       "    <tr>\n",
       "      <th>16</th>\n",
       "      <td>26</td>\n",
       "      <td>nuochoauk.vn</td>\n",
       "    </tr>\n",
       "    <tr>\n",
       "      <th>13</th>\n",
       "      <td>27</td>\n",
       "      <td>phapluat.news</td>\n",
       "    </tr>\n",
       "    <tr>\n",
       "      <th>17</th>\n",
       "      <td>28</td>\n",
       "      <td>shopjaxvinhphuc.vn</td>\n",
       "    </tr>\n",
       "    <tr>\n",
       "      <th>25</th>\n",
       "      <td>29</td>\n",
       "      <td>soha.vn</td>\n",
       "    </tr>\n",
       "    <tr>\n",
       "      <th>212</th>\n",
       "      <td>30</td>\n",
       "      <td>sohoa.vnexpress.net</td>\n",
       "    </tr>\n",
       "    <tr>\n",
       "      <th>49</th>\n",
       "      <td>31</td>\n",
       "      <td>sorry.vn</td>\n",
       "    </tr>\n",
       "    <tr>\n",
       "      <th>2</th>\n",
       "      <td>32</td>\n",
       "      <td>suckhoe.vnexpress.net</td>\n",
       "    </tr>\n",
       "    <tr>\n",
       "      <th>160</th>\n",
       "      <td>33</td>\n",
       "      <td>thanhnien.vn</td>\n",
       "    </tr>\n",
       "    <tr>\n",
       "      <th>40</th>\n",
       "      <td>34</td>\n",
       "      <td>thegioitre.vn</td>\n",
       "    </tr>\n",
       "    <tr>\n",
       "      <th>135</th>\n",
       "      <td>35</td>\n",
       "      <td>thethao.tuoitre.vn</td>\n",
       "    </tr>\n",
       "    <tr>\n",
       "      <th>50</th>\n",
       "      <td>36</td>\n",
       "      <td>thoibao.de</td>\n",
       "    </tr>\n",
       "    <tr>\n",
       "      <th>45</th>\n",
       "      <td>37</td>\n",
       "      <td>thoibao.today</td>\n",
       "    </tr>\n",
       "    <tr>\n",
       "      <th>15</th>\n",
       "      <td>38</td>\n",
       "      <td>tingame.info</td>\n",
       "    </tr>\n",
       "    <tr>\n",
       "      <th>19</th>\n",
       "      <td>39</td>\n",
       "      <td>tintuconline.com.vn</td>\n",
       "    </tr>\n",
       "    <tr>\n",
       "      <th>39</th>\n",
       "      <td>40</td>\n",
       "      <td>tintucqpvn.net</td>\n",
       "    </tr>\n",
       "    <tr>\n",
       "      <th>58</th>\n",
       "      <td>41</td>\n",
       "      <td>tinvn.info</td>\n",
       "    </tr>\n",
       "    <tr>\n",
       "      <th>34</th>\n",
       "      <td>42</td>\n",
       "      <td>trumpandq.blogspot.com</td>\n",
       "    </tr>\n",
       "    <tr>\n",
       "      <th>162</th>\n",
       "      <td>43</td>\n",
       "      <td>tuoitre.vn</td>\n",
       "    </tr>\n",
       "    <tr>\n",
       "      <th>28</th>\n",
       "      <td>44</td>\n",
       "      <td>tuvanannam.com</td>\n",
       "    </tr>\n",
       "    <tr>\n",
       "      <th>9</th>\n",
       "      <td>45</td>\n",
       "      <td>vietgiaitri.com</td>\n",
       "    </tr>\n",
       "    <tr>\n",
       "      <th>48</th>\n",
       "      <td>46</td>\n",
       "      <td>vinaexpress.com.vn</td>\n",
       "    </tr>\n",
       "    <tr>\n",
       "      <th>133</th>\n",
       "      <td>47</td>\n",
       "      <td>vnexpress.net</td>\n",
       "    </tr>\n",
       "    <tr>\n",
       "      <th>7</th>\n",
       "      <td>48</td>\n",
       "      <td>web.archive.org</td>\n",
       "    </tr>\n",
       "    <tr>\n",
       "      <th>161</th>\n",
       "      <td>49</td>\n",
       "      <td>www.anninhthudo.vn</td>\n",
       "    </tr>\n",
       "    <tr>\n",
       "      <th>77</th>\n",
       "      <td>50</td>\n",
       "      <td>www.gioitreviet.net</td>\n",
       "    </tr>\n",
       "    <tr>\n",
       "      <th>42</th>\n",
       "      <td>51</td>\n",
       "      <td>www.ipick.vn</td>\n",
       "    </tr>\n",
       "    <tr>\n",
       "      <th>3</th>\n",
       "      <td>52</td>\n",
       "      <td>www.vietgiaitri.com</td>\n",
       "    </tr>\n",
       "    <tr>\n",
       "      <th>30</th>\n",
       "      <td>53</td>\n",
       "      <td>www.webtretho.com</td>\n",
       "    </tr>\n",
       "  </tbody>\n",
       "</table>\n",
       "</div>"
      ],
      "text/plain": [
       "     source_domain_encoded   source_domain_original\n",
       "0                        0                  2sao.vn\n",
       "5                        1            anninh247.xyz\n",
       "35                       2               autoxe.net\n",
       "43                       3        baoangiang.com.vn\n",
       "52                       4            baonuocmy.com\n",
       "11                       5       baophapluat.online\n",
       "1                        6             binhluan.biz\n",
       "29                       7    blogxcy.wordpress.com\n",
       "6                        8              cand.com.vn\n",
       "36                       9      congtintuc24gio.com\n",
       "145                     10            dantri.com.vn\n",
       "10                      11               danviet.vn\n",
       "8                       12         doanhnghiepvn.vn\n",
       "217                     13    doisong.vnexpress.net\n",
       "206                     14     dulich.vnexpress.net\n",
       "88                      15       giadinhtiepthi.com\n",
       "219                     16    giaitri.vnexpress.net\n",
       "47                      17       haiduong.tintuc.vn\n",
       "21                      18          hanoimoi.com.vn\n",
       "132                     19     https://news.zing.vn\n",
       "20                      20                kenh14.vn\n",
       "201                     21  kinhdoanh.vnexpress.net\n",
       "131                     22               laodong.vn\n",
       "27                      23          lichngaytot.com\n",
       "4                       24            mangxahoi.net\n",
       "171                     25             news.zing.vn\n",
       "16                      26             nuochoauk.vn\n",
       "13                      27            phapluat.news\n",
       "17                      28       shopjaxvinhphuc.vn\n",
       "25                      29                  soha.vn\n",
       "212                     30      sohoa.vnexpress.net\n",
       "49                      31                 sorry.vn\n",
       "2                       32    suckhoe.vnexpress.net\n",
       "160                     33             thanhnien.vn\n",
       "40                      34            thegioitre.vn\n",
       "135                     35       thethao.tuoitre.vn\n",
       "50                      36               thoibao.de\n",
       "45                      37            thoibao.today\n",
       "15                      38             tingame.info\n",
       "19                      39      tintuconline.com.vn\n",
       "39                      40           tintucqpvn.net\n",
       "58                      41               tinvn.info\n",
       "34                      42   trumpandq.blogspot.com\n",
       "162                     43               tuoitre.vn\n",
       "28                      44           tuvanannam.com\n",
       "9                       45          vietgiaitri.com\n",
       "48                      46       vinaexpress.com.vn\n",
       "133                     47            vnexpress.net\n",
       "7                       48          web.archive.org\n",
       "161                     49       www.anninhthudo.vn\n",
       "77                      50      www.gioitreviet.net\n",
       "42                      51             www.ipick.vn\n",
       "3                       52      www.vietgiaitri.com\n",
       "30                      53        www.webtretho.com"
      ]
     },
     "execution_count": 12,
     "metadata": {},
     "output_type": "execute_result"
    }
   ],
   "source": [
    "# Tạo bảng mapping cho source_domain\n",
    "df_mapping_source = pd.DataFrame({\"source_domain_encoded\": df1[\"source_domain_encoded\"],\n",
    "                                  \"source_domain_original\": df[\"source_domain\"]}\n",
    "                                  ).drop_duplicates().sort_values(by=\"source_domain_encoded\", ascending=True)\n",
    "df_mapping_source\n"
   ]
  },
  {
   "cell_type": "code",
   "execution_count": 13,
   "metadata": {},
   "outputs": [
    {
     "data": {
      "text/html": [
       "<div>\n",
       "<style scoped>\n",
       "    .dataframe tbody tr th:only-of-type {\n",
       "        vertical-align: middle;\n",
       "    }\n",
       "\n",
       "    .dataframe tbody tr th {\n",
       "        vertical-align: top;\n",
       "    }\n",
       "\n",
       "    .dataframe thead th {\n",
       "        text-align: right;\n",
       "    }\n",
       "</style>\n",
       "<table border=\"1\" class=\"dataframe\">\n",
       "  <thead>\n",
       "    <tr style=\"text-align: right;\">\n",
       "      <th></th>\n",
       "      <th>id</th>\n",
       "      <th>authors</th>\n",
       "      <th>source_domain</th>\n",
       "      <th>language</th>\n",
       "      <th>title</th>\n",
       "      <th>description</th>\n",
       "      <th>maintext</th>\n",
       "      <th>target</th>\n",
       "    </tr>\n",
       "  </thead>\n",
       "  <tbody>\n",
       "    <tr>\n",
       "      <th>88</th>\n",
       "      <td>Fake_6</td>\n",
       "      <td>Please Enter Your Name Here</td>\n",
       "      <td>giadinhtiepthi.com</td>\n",
       "      <td>vi</td>\n",
       "      <td>Cười vỡ bụng khi tiếng CẢI CÁCH \"vuông tròn\" x...</td>\n",
       "      <td></td>\n",
       "      <td>Những ngày qua, các phụ huynh liên tục chia sẻ...</td>\n",
       "      <td>Fake</td>\n",
       "    </tr>\n",
       "    <tr>\n",
       "      <th>99</th>\n",
       "      <td>Fake_7</td>\n",
       "      <td>Please Enter Your Name Here</td>\n",
       "      <td>giadinhtiepthi.com</td>\n",
       "      <td>vi</td>\n",
       "      <td>Chia sẻ thẳng thắn vụ việc 25000 USD và cải cá...</td>\n",
       "      <td></td>\n",
       "      <td>Những ngày qua, trên mạng xã hội các phụ huynh...</td>\n",
       "      <td>Fake</td>\n",
       "    </tr>\n",
       "  </tbody>\n",
       "</table>\n",
       "</div>"
      ],
      "text/plain": [
       "        id                      authors       source_domain language  \\\n",
       "88  Fake_6  Please Enter Your Name Here  giadinhtiepthi.com       vi   \n",
       "99  Fake_7  Please Enter Your Name Here  giadinhtiepthi.com       vi   \n",
       "\n",
       "                                                title description  \\\n",
       "88  Cười vỡ bụng khi tiếng CẢI CÁCH \"vuông tròn\" x...               \n",
       "99  Chia sẻ thẳng thắn vụ việc 25000 USD và cải cá...               \n",
       "\n",
       "                                             maintext target  \n",
       "88  Những ngày qua, các phụ huynh liên tục chia sẻ...   Fake  \n",
       "99  Những ngày qua, trên mạng xã hội các phụ huynh...   Fake  "
      ]
     },
     "execution_count": 13,
     "metadata": {},
     "output_type": "execute_result"
    }
   ],
   "source": [
    "df[df['source_domain'].str.contains('giadinhtiepthi.com', case=False, na=False)]\n"
   ]
  },
  {
   "cell_type": "code",
   "execution_count": 14,
   "metadata": {},
   "outputs": [
    {
     "data": {
      "text/html": [
       "<div>\n",
       "<style scoped>\n",
       "    .dataframe tbody tr th:only-of-type {\n",
       "        vertical-align: middle;\n",
       "    }\n",
       "\n",
       "    .dataframe tbody tr th {\n",
       "        vertical-align: top;\n",
       "    }\n",
       "\n",
       "    .dataframe thead th {\n",
       "        text-align: right;\n",
       "    }\n",
       "</style>\n",
       "<table border=\"1\" class=\"dataframe\">\n",
       "  <thead>\n",
       "    <tr style=\"text-align: right;\">\n",
       "      <th></th>\n",
       "      <th>authors_encoded</th>\n",
       "      <th>authors_original</th>\n",
       "    </tr>\n",
       "  </thead>\n",
       "  <tbody>\n",
       "    <tr>\n",
       "      <th>0</th>\n",
       "      <td>0</td>\n",
       "      <td></td>\n",
       "    </tr>\n",
       "    <tr>\n",
       "      <th>171</th>\n",
       "      <td>1</td>\n",
       "      <td>An Bình</td>\n",
       "    </tr>\n",
       "    <tr>\n",
       "      <th>173</th>\n",
       "      <td>2</td>\n",
       "      <td>CÔNG TRUNG</td>\n",
       "    </tr>\n",
       "    <tr>\n",
       "      <th>42</th>\n",
       "      <td>3</td>\n",
       "      <td>Cùng Tác Giả</td>\n",
       "    </tr>\n",
       "    <tr>\n",
       "      <th>44</th>\n",
       "      <td>4</td>\n",
       "      <td>Cùng Tác Giả, Nguyễn Thiện</td>\n",
       "    </tr>\n",
       "    <tr>\n",
       "      <th>172</th>\n",
       "      <td>5</td>\n",
       "      <td>D.KIM THOA</td>\n",
       "    </tr>\n",
       "    <tr>\n",
       "      <th>77</th>\n",
       "      <td>6</td>\n",
       "      <td>Gioi Tre Viet</td>\n",
       "    </tr>\n",
       "    <tr>\n",
       "      <th>182</th>\n",
       "      <td>7</td>\n",
       "      <td>Hiếu Công</td>\n",
       "    </tr>\n",
       "    <tr>\n",
       "      <th>40</th>\n",
       "      <td>8</td>\n",
       "      <td>Hoàng Vy Thế Giới Trẻ, - Phuong Thao -, - Dung...</td>\n",
       "    </tr>\n",
       "    <tr>\n",
       "      <th>132</th>\n",
       "      <td>9</td>\n",
       "      <td>Hạ Huyền</td>\n",
       "    </tr>\n",
       "    <tr>\n",
       "      <th>20</th>\n",
       "      <td>10</td>\n",
       "      <td>J</td>\n",
       "    </tr>\n",
       "    <tr>\n",
       "      <th>215</th>\n",
       "      <td>11</td>\n",
       "      <td>Khánh Chi</td>\n",
       "    </tr>\n",
       "    <tr>\n",
       "      <th>131</th>\n",
       "      <td>12</td>\n",
       "      <td>Lê Anh</td>\n",
       "    </tr>\n",
       "    <tr>\n",
       "      <th>27</th>\n",
       "      <td>13</td>\n",
       "      <td>Lịch Ngày Tốt, Hunglam Lichngaytot.Com</td>\n",
       "    </tr>\n",
       "    <tr>\n",
       "      <th>161</th>\n",
       "      <td>14</td>\n",
       "      <td>Minh Hạnh</td>\n",
       "    </tr>\n",
       "    <tr>\n",
       "      <th>199</th>\n",
       "      <td>15</td>\n",
       "      <td>Nguyễn Tiến</td>\n",
       "    </tr>\n",
       "    <tr>\n",
       "      <th>204</th>\n",
       "      <td>16</td>\n",
       "      <td>Ngân Giang</td>\n",
       "    </tr>\n",
       "    <tr>\n",
       "      <th>193</th>\n",
       "      <td>17</td>\n",
       "      <td>Ngô Minh</td>\n",
       "    </tr>\n",
       "    <tr>\n",
       "      <th>183</th>\n",
       "      <td>18</td>\n",
       "      <td>Ngọc Tân</td>\n",
       "    </tr>\n",
       "    <tr>\n",
       "      <th>41</th>\n",
       "      <td>19</td>\n",
       "      <td>Phuong Thao Thế Giới Trẻ, - Phuong Thao -, - D...</td>\n",
       "    </tr>\n",
       "    <tr>\n",
       "      <th>11</th>\n",
       "      <td>20</td>\n",
       "      <td>Please Enter Your Name Here</td>\n",
       "    </tr>\n",
       "    <tr>\n",
       "      <th>50</th>\n",
       "      <td>21</td>\n",
       "      <td>Ruô I Trâu</td>\n",
       "    </tr>\n",
       "    <tr>\n",
       "      <th>174</th>\n",
       "      <td>22</td>\n",
       "      <td>SƠN BÌNH</td>\n",
       "    </tr>\n",
       "    <tr>\n",
       "      <th>8</th>\n",
       "      <td>23</td>\n",
       "      <td>Theo Doanh Nghiệp Và Tiếp Thị</td>\n",
       "    </tr>\n",
       "    <tr>\n",
       "      <th>17</th>\n",
       "      <td>24</td>\n",
       "      <td>Thời Sự</td>\n",
       "    </tr>\n",
       "    <tr>\n",
       "      <th>160</th>\n",
       "      <td>25</td>\n",
       "      <td>Tiêu Phong, Liên Châu</td>\n",
       "    </tr>\n",
       "    <tr>\n",
       "      <th>226</th>\n",
       "      <td>26</td>\n",
       "      <td>Trần Tiến</td>\n",
       "    </tr>\n",
       "    <tr>\n",
       "      <th>135</th>\n",
       "      <td>27</td>\n",
       "      <td>Tuoi Tre Online</td>\n",
       "    </tr>\n",
       "    <tr>\n",
       "      <th>9</th>\n",
       "      <td>28</td>\n",
       "      <td>Tuấn Anh</td>\n",
       "    </tr>\n",
       "    <tr>\n",
       "      <th>224</th>\n",
       "      <td>29</td>\n",
       "      <td>Video</td>\n",
       "    </tr>\n",
       "    <tr>\n",
       "      <th>1</th>\n",
       "      <td>30</td>\n",
       "      <td>Văn Trình</td>\n",
       "    </tr>\n",
       "    <tr>\n",
       "      <th>169</th>\n",
       "      <td>31</td>\n",
       "      <td>Webmaster Vnexpress.Net</td>\n",
       "    </tr>\n",
       "  </tbody>\n",
       "</table>\n",
       "</div>"
      ],
      "text/plain": [
       "     authors_encoded                                   authors_original\n",
       "0                  0                                                   \n",
       "171                1                                            An Bình\n",
       "173                2                                         CÔNG TRUNG\n",
       "42                 3                                       Cùng Tác Giả\n",
       "44                 4                         Cùng Tác Giả, Nguyễn Thiện\n",
       "172                5                                         D.KIM THOA\n",
       "77                 6                                      Gioi Tre Viet\n",
       "182                7                                          Hiếu Công\n",
       "40                 8  Hoàng Vy Thế Giới Trẻ, - Phuong Thao -, - Dung...\n",
       "132                9                                           Hạ Huyền\n",
       "20                10                                                  J\n",
       "215               11                                          Khánh Chi\n",
       "131               12                                             Lê Anh\n",
       "27                13             Lịch Ngày Tốt, Hunglam Lichngaytot.Com\n",
       "161               14                                          Minh Hạnh\n",
       "199               15                                        Nguyễn Tiến\n",
       "204               16                                         Ngân Giang\n",
       "193               17                                           Ngô Minh\n",
       "183               18                                           Ngọc Tân\n",
       "41                19  Phuong Thao Thế Giới Trẻ, - Phuong Thao -, - D...\n",
       "11                20                        Please Enter Your Name Here\n",
       "50                21                                         Ruô I Trâu\n",
       "174               22                                           SƠN BÌNH\n",
       "8                 23                      Theo Doanh Nghiệp Và Tiếp Thị\n",
       "17                24                                            Thời Sự\n",
       "160               25                              Tiêu Phong, Liên Châu\n",
       "226               26                                          Trần Tiến\n",
       "135               27                                    Tuoi Tre Online\n",
       "9                 28                                           Tuấn Anh\n",
       "224               29                                              Video\n",
       "1                 30                                          Văn Trình\n",
       "169               31                            Webmaster Vnexpress.Net"
      ]
     },
     "execution_count": 14,
     "metadata": {},
     "output_type": "execute_result"
    }
   ],
   "source": [
    "# Tạo bảng mapping cho authors\n",
    "df_mapping_authors = pd.DataFrame({\"authors_encoded\": df1[\"authors_encoded\"], \n",
    "                                   \"authors_original\": df[\"authors\"]}\n",
    "                                   ).drop_duplicates().sort_values(by=\"authors_encoded\", ascending=True)\n",
    "df_mapping_authors\n"
   ]
  },
  {
   "cell_type": "markdown",
   "metadata": {},
   "source": [
    "## 3.2 Tìm RB dựa trên `title`"
   ]
  },
  {
   "cell_type": "code",
   "execution_count": 15,
   "metadata": {},
   "outputs": [
    {
     "data": {
      "text/plain": [
       "(259, 2)"
      ]
     },
     "execution_count": 15,
     "metadata": {},
     "output_type": "execute_result"
    }
   ],
   "source": [
    "df2 = df[['title', 'target']]\n",
    "df2.shape\n"
   ]
  },
  {
   "cell_type": "code",
   "execution_count": 16,
   "metadata": {},
   "outputs": [
    {
     "name": "stdout",
     "output_type": "stream",
     "text": [
      "Số lượng n-grams: 44800\n"
     ]
    }
   ],
   "source": [
    "# Đọc danh sách n-grams từ file\n",
    "def read_ngrams(file_path):\n",
    "    with open(file_path, \"r\", encoding=\"utf-8\") as f:\n",
    "        return [line.strip() for line in f.readlines()]\n",
    "\n",
    "# Đọc danh sách n-gram từ 3 file\n",
    "bi_grams = read_ngrams(\"C:/Users/VivoBook/Documents/detect fake news/VFND-vietnamese-fake-news-datasets/Dictionaries/bi_gram.txt\")\n",
    "tri_grams = read_ngrams(\"C:/Users/VivoBook/Documents/detect fake news/VFND-vietnamese-fake-news-datasets/Dictionaries/tri_gram.txt\")\n",
    "four_grams = read_ngrams(\"C:/Users/VivoBook/Documents/detect fake news/VFND-vietnamese-fake-news-datasets/Dictionaries/four_gram.txt\")\n",
    "\n",
    "# Tổng hợp danh sách tất cả n-grams\n",
    "all_ngrams = set(bi_grams + tri_grams + four_grams)\n",
    "\n",
    "print(\"Số lượng n-grams:\", len(all_ngrams))\n"
   ]
  },
  {
   "cell_type": "code",
   "execution_count": 17,
   "metadata": {},
   "outputs": [
    {
     "name": "stderr",
     "output_type": "stream",
     "text": [
      "c:\\Users\\VivoBook\\AppData\\Local\\Programs\\Python\\Python312\\Lib\\site-packages\\sklearn\\feature_extraction\\text.py:1368: UserWarning: Upper case characters found in vocabulary while 'lowercase' is True. These entries will not be matched with any documents\n",
      "  warnings.warn(\n"
     ]
    },
    {
     "data": {
      "text/html": [
       "<div>\n",
       "<style scoped>\n",
       "    .dataframe tbody tr th:only-of-type {\n",
       "        vertical-align: middle;\n",
       "    }\n",
       "\n",
       "    .dataframe tbody tr th {\n",
       "        vertical-align: top;\n",
       "    }\n",
       "\n",
       "    .dataframe thead th {\n",
       "        text-align: right;\n",
       "    }\n",
       "</style>\n",
       "<table border=\"1\" class=\"dataframe\">\n",
       "  <thead>\n",
       "    <tr style=\"text-align: right;\">\n",
       "      <th></th>\n",
       "      <th>N-gram</th>\n",
       "      <th>TF-IDF Score</th>\n",
       "    </tr>\n",
       "  </thead>\n",
       "  <tbody>\n",
       "    <tr>\n",
       "      <th>41715</th>\n",
       "      <td>đàn ông</td>\n",
       "      <td>0.020670</td>\n",
       "    </tr>\n",
       "    <tr>\n",
       "      <th>29536</th>\n",
       "      <td>sự thật</td>\n",
       "      <td>0.019388</td>\n",
       "    </tr>\n",
       "    <tr>\n",
       "      <th>19809</th>\n",
       "      <td>máy bay</td>\n",
       "      <td>0.015833</td>\n",
       "    </tr>\n",
       "    <tr>\n",
       "      <th>6173</th>\n",
       "      <td>con gái</td>\n",
       "      <td>0.014489</td>\n",
       "    </tr>\n",
       "    <tr>\n",
       "      <th>25289</th>\n",
       "      <td>phát hiện</td>\n",
       "      <td>0.013462</td>\n",
       "    </tr>\n",
       "    <tr>\n",
       "      <th>35330</th>\n",
       "      <td>tài xế</td>\n",
       "      <td>0.013058</td>\n",
       "    </tr>\n",
       "    <tr>\n",
       "      <th>7047</th>\n",
       "      <td>có thể</td>\n",
       "      <td>0.012658</td>\n",
       "    </tr>\n",
       "    <tr>\n",
       "      <th>39717</th>\n",
       "      <td>xã hội</td>\n",
       "      <td>0.012587</td>\n",
       "    </tr>\n",
       "    <tr>\n",
       "      <th>1684</th>\n",
       "      <td>báo mộng</td>\n",
       "      <td>0.011783</td>\n",
       "    </tr>\n",
       "    <tr>\n",
       "      <th>16058</th>\n",
       "      <td>kinh hoàng</td>\n",
       "      <td>0.010419</td>\n",
       "    </tr>\n",
       "    <tr>\n",
       "      <th>26973</th>\n",
       "      <td>quần vợt</td>\n",
       "      <td>0.009983</td>\n",
       "    </tr>\n",
       "    <tr>\n",
       "      <th>29857</th>\n",
       "      <td>thanh niên</td>\n",
       "      <td>0.009727</td>\n",
       "    </tr>\n",
       "  </tbody>\n",
       "</table>\n",
       "</div>"
      ],
      "text/plain": [
       "           N-gram  TF-IDF Score\n",
       "41715     đàn ông      0.020670\n",
       "29536     sự thật      0.019388\n",
       "19809     máy bay      0.015833\n",
       "6173      con gái      0.014489\n",
       "25289   phát hiện      0.013462\n",
       "35330      tài xế      0.013058\n",
       "7047       có thể      0.012658\n",
       "39717      xã hội      0.012587\n",
       "1684     báo mộng      0.011783\n",
       "16058  kinh hoàng      0.010419\n",
       "26973    quần vợt      0.009983\n",
       "29857  thanh niên      0.009727"
      ]
     },
     "execution_count": 17,
     "metadata": {},
     "output_type": "execute_result"
    }
   ],
   "source": [
    "from sklearn.feature_extraction.text import TfidfVectorizer\n",
    "\n",
    "# Lấy dữ liệu tiêu đề\n",
    "titles = df2[\"title\"].astype(str).tolist()\n",
    "\n",
    "# Khởi tạo TfidfVectorizer với danh sách n-grams từ file\n",
    "vectorizer = TfidfVectorizer(ngram_range=(2, 4), vocabulary=all_ngrams)\n",
    "\n",
    "# Tính toán TF-IDF\n",
    "X_tfidf = vectorizer.fit_transform(titles)\n",
    "\n",
    "# Lấy danh sách từ đặc trưng \n",
    "feature_names = vectorizer.get_feature_names_out()\n",
    "tfidf_scores = np.array(X_tfidf.mean(axis=0)).flatten()\n",
    "\n",
    "# Chuyển thành DataFrame và xếp trọng số TF-IDF giảm dần\n",
    "df2_tfidf = pd.DataFrame({'N-gram': feature_names, 'TF-IDF Score': tfidf_scores}).sort_values(by=\"TF-IDF Score\", ascending=False)\n",
    "\n",
    "# Hiển thị danh sách n-gram và trọng số của chúng\n",
    "df2_tfidf.head(12)\n"
   ]
  },
  {
   "cell_type": "code",
   "execution_count": 18,
   "metadata": {},
   "outputs": [
    {
     "name": "stdout",
     "output_type": "stream",
     "text": [
      "Accuracy của Decision Tree: 75.00%\n",
      "|--- sự thật <= 0.17\n",
      "|   |--- con gái <= 0.22\n",
      "|   |   |--- kinh dị <= 0.25\n",
      "|   |   |   |--- tài xế <= 0.24\n",
      "|   |   |   |   |--- bí mật <= 0.25\n",
      "|   |   |   |   |   |--- đàn ông <= 0.43\n",
      "|   |   |   |   |   |   |--- tất cả <= 0.18\n",
      "|   |   |   |   |   |   |   |--- báo mộng <= 0.25\n",
      "|   |   |   |   |   |   |   |   |--- lý do <= 0.26\n",
      "|   |   |   |   |   |   |   |   |   |--- cải cách <= 0.28\n",
      "|   |   |   |   |   |   |   |   |   |   |--- cảnh tượng <= 0.20\n",
      "|   |   |   |   |   |   |   |   |   |   |   |--- truncated branch of depth 40\n",
      "|   |   |   |   |   |   |   |   |   |   |--- cảnh tượng >  0.20\n",
      "|   |   |   |   |   |   |   |   |   |   |   |--- class: Fake\n",
      "|   |   |   |   |   |   |   |   |   |--- cải cách >  0.28\n",
      "|   |   |   |   |   |   |   |   |   |   |--- class: Fake\n",
      "|   |   |   |   |   |   |   |   |--- lý do >  0.26\n",
      "|   |   |   |   |   |   |   |   |   |--- class: Fake\n",
      "|   |   |   |   |   |   |   |--- báo mộng >  0.25\n",
      "|   |   |   |   |   |   |   |   |--- class: Fake\n",
      "|   |   |   |   |   |   |--- tất cả >  0.18\n",
      "|   |   |   |   |   |   |   |--- class: Fake\n",
      "|   |   |   |   |   |--- đàn ông >  0.43\n",
      "|   |   |   |   |   |   |--- đàn ông <= 0.61\n",
      "|   |   |   |   |   |   |   |--- class: Fake\n",
      "|   |   |   |   |   |   |--- đàn ông >  0.61\n",
      "|   |   |   |   |   |   |   |--- class: Fake\n",
      "|   |   |   |   |--- bí mật >  0.25\n",
      "|   |   |   |   |   |--- class: Fake\n",
      "|   |   |   |--- tài xế >  0.24\n",
      "|   |   |   |   |--- class: Real\n",
      "|   |   |--- kinh dị >  0.25\n",
      "|   |   |   |--- class: Fake\n",
      "|   |--- con gái >  0.22\n",
      "|   |   |--- class: Fake\n",
      "|--- sự thật >  0.17\n",
      "|   |--- class: Fake\n",
      "\n"
     ]
    }
   ],
   "source": [
    "# Chọn 10 n-gram có trọng số cao nhất\n",
    "top_ngrams = df2_tfidf.nlargest(300, 'TF-IDF Score')[\"N-gram\"].tolist()\n",
    "\n",
    "\n",
    "# Tạo feature matrix từ df2['title']\n",
    "vectorizer_top = TfidfVectorizer(ngram_range=(2, 4), vocabulary=top_ngrams)\n",
    "# Vector hóa dữ liệu\n",
    "X_tfidf_top = vectorizer_top.fit_transform(df2[\"title\"]).toarray()\n",
    "\n",
    "\n",
    "tree_model2 = model_tree(depth=50)\n",
    "print(calculate_acc(df2, X_tfidf_top, 'target', model=tree_model2))\n",
    "# print(plot_decision_tree(tree_model2, vectorizer_top.get_feature_names_out()))\n",
    "print(export_text(tree_model2, feature_names=vectorizer_top.get_feature_names_out()))"
   ]
  },
  {
   "cell_type": "markdown",
   "metadata": {},
   "source": [
    "# 4. Tổng hợp rule-based system"
   ]
  },
  {
   "cell_type": "code",
<<<<<<< HEAD
   "execution_count": 12,
=======
   "execution_count": null,
>>>>>>> 2d7b5b4 (truc lan 3)
   "metadata": {},
   "outputs": [],
   "source": [
<<<<<<< HEAD
    "import numpy as np\n",
    "import matplotlib.pyplot as plt\n",
    "from sklearn.feature_extraction.text import TfidfVectorizer\n",
    "from sklearn.preprocessing import LabelEncoder\n",
    "from sklearn.tree import DecisionTreeClassifier, export_text, plot_tree\n",
    "from sklearn.model_selection import train_test_split\n",
    "from sklearn.metrics import accuracy_score"
   ]
  },
  {
   "cell_type": "code",
   "execution_count": 13,
   "metadata": {},
   "outputs": [
    {
     "data": {
      "text/plain": [
       "(259, 30)"
      ]
     },
     "execution_count": 13,
     "metadata": {},
     "output_type": "execute_result"
    }
   ],
   "source": [
    "# 2. Chuyển đổi văn bản thành số (sử dụng TF-IDF)\n",
    "vectorizer = TfidfVectorizer(max_features=30)  # Giới hạn số từ đặc trưng\n",
    "text_features = vectorizer.fit_transform(df[\"title\"] + \" \" + df[\"description\"] + \" \" + df[\"maintext\"]).toarray()\n",
    "# vectorizer = TfidfVectorizer(max_features=20)\n",
    "# text_features = vectorizer.fit_transform(df[\"title\"] ).toarray()\n",
    "text_features.shape\n"
   ]
  },
  {
   "cell_type": "code",
   "execution_count": 14,
   "metadata": {},
   "outputs": [
    {
     "data": {
      "text/plain": [
       "array(['anh', 'bị', 'cho', 'con', 'các', 'có', 'công', 'cũng', 'của',\n",
       "       'khi', 'không', 'là', 'một', 'người', 'nhiều', 'những', 'này',\n",
       "       'ra', 'trong', 'tôi', 'và', 'về', 'với', 'ông', 'đi', 'đã', 'đó',\n",
       "       'được', 'đến', 'để'], dtype=object)"
      ]
     },
     "execution_count": 14,
     "metadata": {},
     "output_type": "execute_result"
    }
   ],
   "source": [
    "vectorizer.get_feature_names_out()"
   ]
  },
  {
   "cell_type": "code",
   "execution_count": 15,
   "metadata": {},
   "outputs": [],
   "source": [
    "# 3. Chuyển đổi 'source_domain' và 'authors' thành số (dùng LabelEncoder)\n",
    "encoder = LabelEncoder()\n",
    "df[\"source_domain\"] = encoder.fit_transform(df[\"source_domain\"])\n",
    "df[\"authors\"] = encoder.fit_transform(df[\"authors\"])\n"
   ]
  },
  {
   "cell_type": "code",
   "execution_count": 16,
   "metadata": {},
   "outputs": [
    {
     "data": {
      "text/plain": [
       "(259, 32)"
      ]
     },
     "execution_count": 16,
     "metadata": {},
     "output_type": "execute_result"
    }
   ],
   "source": [
    "# 4. Kết hợp tất cả đặc trưng vào ma trận X\n",
    "X = np.hstack((df[[\"source_domain\", \"authors\"]].values, text_features))\n",
    "# X = text_features\n",
    "y = df[\"target\"]\n",
    "X.shape"
   ]
  },
  {
   "cell_type": "code",
   "execution_count": 17,
   "metadata": {},
   "outputs": [
    {
     "name": "stdout",
     "output_type": "stream",
     "text": [
      "|--- source_domain <= 42.50\n",
      "|   |--- source_domain <= 35.50\n",
      "|   |   |--- source_domain <= 9.50\n",
      "|   |   |   |--- class: Fake\n",
      "|   |   |--- source_domain >  9.50\n",
      "|   |   |   |--- class: Real\n",
      "|   |--- source_domain >  35.50\n",
      "|   |   |--- class: Fake\n",
      "|--- source_domain >  42.50\n",
      "|   |--- source_domain <= 49.50\n",
      "|   |   |--- source_domain <= 46.50\n",
      "|   |   |   |--- class: Real\n",
      "|   |   |--- source_domain >  46.50\n",
      "|   |   |   |--- class: Real\n",
      "|   |--- source_domain >  49.50\n",
      "|   |   |--- class: Fake\n",
      "\n"
     ]
    }
   ],
   "source": [
    "# 5. Huấn luyện Decision Tree\n",
    "clf = DecisionTreeClassifier(criterion=\"entropy\", max_depth=3, random_state=42)\n",
    "clf.fit(X, y)\n",
    "\n",
    "# 6. Xuất quy luật từ cây quyết định\n",
    "tree_rules = export_text(clf, feature_names=[\"source_domain\", \"authors\"] + list(vectorizer.get_feature_names_out()))\n",
    "# tree_rules = export_text(clf)\n",
    "print(tree_rules)"
   ]
  },
  {
   "cell_type": "code",
   "execution_count": 18,
   "metadata": {},
   "outputs": [
    {
     "data": {
      "image/png": "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",
      "text/plain": [
       "<Figure size 1200x800 with 1 Axes>"
      ]
     },
     "metadata": {},
     "output_type": "display_data"
    }
   ],
   "source": [
    "# clf = DecisionTreeClassifier(criterion=\"entropy\", max_depth=3, random_state=0)\n",
    "# clf.fit(X, y)\n",
    "\n",
    "# Vẽ cây quyết định\n",
    "plt.figure(figsize=(12, 8))\n",
    "plot_tree(clf, feature_names=[\"source_domain\", \"authors\"] + list(vectorizer.get_feature_names_out()),\n",
    "          class_names=[\"Fake\", \"Real\"], filled=True)\n",
    "plt.show()"
   ]
  },
  {
   "cell_type": "code",
   "execution_count": 138,
   "metadata": {},
   "outputs": [],
   "source": [
    "# df['source_domain']"
   ]
  },
  {
   "cell_type": "code",
   "execution_count": 19,
   "metadata": {},
   "outputs": [
    {
     "name": "stdout",
     "output_type": "stream",
     "text": [
      "Accuracy của Decision Tree: 88.46%\n"
     ]
    }
   ],
   "source": [
    "# 3. Chia dữ liệu train/test\n",
    "X_train, X_test, y_train, y_test = train_test_split(X, y, test_size=0.2, random_state=42)\n",
    "\n",
    "# 4. Huấn luyện mô hình Decision Tree\n",
    "# clf = DecisionTreeClassifier(max_depth=3, random_state=42)\n",
    "clf.fit(X_train, y_train)\n",
    "\n",
    "# 5. Dự đoán & tính Accuracy\n",
    "y_pred = clf.predict(X_test)\n",
    "accuracy = accuracy_score(y_test, y_pred)\n",
    "\n",
    "print(f\"Accuracy của Decision Tree: {accuracy:.2%}\")"
   ]
  },
  {
   "cell_type": "markdown",
   "metadata": {},
   "source": [
    "# 4. Rule-based system"
   ]
  },
  {
   "cell_type": "code",
   "execution_count": 20,
   "metadata": {},
   "outputs": [],
   "source": [
    "def rule_based_classification(row):\n",
    "    \"\"\"\n",
    "    Hệ thống Rule-Based để phân loại Fake/Real dựa vào cây quyết định.\n",
    "    \"\"\"\n",
    "    source_domain = row[\"source_domain\"]\n",
    "    word_con = row[\"word_con\"]  # Tần suất từ \"con\"\n",
    "    word_co = row[\"word_co\"]    # Tần suất từ \"có\"\n",
    "\n",
    "    # Rule 1: Dựa vào source_domain\n",
    "    if source_domain <= 9.50:\n",
    "        return \"Fake\"\n",
    "    elif 9.50 < source_domain <= 35.50:\n",
    "        return \"Real\"\n",
    "    elif 35.50 < source_domain <= 42.50:\n",
    "        return \"Fake\"\n",
=======
    "import string\n",
    "import math  \n",
    "\n",
    "def rule_based_classification(source, author, text_title):\n",
    "    # Danh sách nguồn tin giả mạo\n",
    "    fake_sources = {\n",
    "        '2sao.vn', 'anninh247.xyz', 'autoxe.net', 'baoangiang.com.vn', 'baonuocmy.com', \n",
    "        'baophapluat.online', 'binhluan.biz', 'blogxcy.wordpress.com', 'cand.com.vn', 'congtintuc24gio.com',\n",
    "        'thoibao.de', 'thoibao.today', 'tingame.info', 'tintuconline.com.vn', 'tintucqpvn.net', \n",
    "        'tinvn.info', 'trumpandq.blogspot.com', 'tuvanannam.com', 'vietgiaitri.com', 'vinaexpress.com.vn'}\n",
    "\n",
    "    # Danh sách tác giả đáng ngờ (chỉ cần chứa một trong số các từ này)\n",
    "    fake_author_keywords = {'An Bình', 'CÔNG TRUNG', 'Cùng Tác Giả', 'D.KIM THOA', 'Gioi Tre Viet',\n",
    "                            'Hiếu Công', 'Hoàng Vy Thế Giới Trẻ', 'Hạ Huyền', 'J', 'Daisy'}\n",
    "  \n",
    "    # Từ khóa và ngưỡng TF-IDF\n",
    "    keywords = {'sự thật': 0.17,\n",
    "                'con gái': 0.22,\n",
    "                'kinh dị': 0.25,\n",
    "                'tài xế': 0.24,\n",
    "                'bí mật': 0.25,\n",
    "                'đàn ông': 0.43,\n",
    "                'tất cả': 0.18,\n",
    "                'báo mộng': 0.25,\n",
    "                'lý do': 0.26,\n",
    "                'cải cách': 0.28,\n",
    "                'cảnh tượng': 0.20}\n",
>>>>>>> 70b5dcd (truc lan 2)
    "    \n",
    "    # Danh sách dấu câu cần kiểm tra (loại bỏ dấu chấm `.` và dấu phẩy `,`)\n",
    "    punctuation_to_check = set(string.punctuation) - {'.', ','}\n",
    "    \n",
    "    # Rule 1: Xác định tỷ lệ Fake dựa vào source và author\n",
    "    fake_source = source in fake_sources\n",
    "    fake_author = any(keyword in author for keyword in fake_author_keywords) \n",
    "\n",
    "    if fake_source and fake_author:\n",
    "        fake_score_source_author = 1 * 0.9  # Fake cả source và author\n",
    "    elif fake_source or fake_author:\n",
    "        fake_score_source_author = 0.5 * 0.9  # Fake ở source hoặc author\n",
    "    else:\n",
    "        fake_score_source_author = 0  # Không Fake ở cả hai\n",
    "    \n",
    "    # Rule 2: Tính toán TF-IDF để kiểm tra từ khóa\n",
    "    vectorizer = TfidfVectorizer(vocabulary=keywords.keys())  # Chỉ tính TF-IDF cho từ khóa\n",
    "    tfidf_matrix = vectorizer.fit_transform([text_title])\n",
    "    \n",
    "    fake_score_keywords = 0\n",
    "    count_violations = 0\n",
    "    \n",
    "    feature_names = vectorizer.get_feature_names_out()\n",
    "    for idx, word in enumerate(feature_names):\n",
    "        if tfidf_matrix[0, idx] > keywords[word]:  # Nếu trọng số TF-IDF vượt ngưỡng\n",
    "            count_violations += 1  \n",
    "\n",
    "    # Kiểm tra dấu câu trực tiếp trong text_title\n",
    "    count_punctuation_violations = sum(1 for p in punctuation_to_check if p in text_title)\n",
    "    count_violations += count_punctuation_violations \n",
    "    \n",
    "    # Tính điểm Fake dựa vào số lần vi phạm\n",
    "    if count_violations > 0:\n",
    "        fake_score_keywords = 1 - math.pow(0.75, count_violations) \n",
    "    \n",
    "    # Tính tỷ lệ Fake/Real từ source/author và keywords\n",
    "    fake_score = fake_score_source_author + fake_score_keywords\n",
    "    real_score = 1 - fake_score\n",
    "\n",
    "    return {'fake_score': round(fake_score, 2), 'real_score': round(real_score, 2) }\n"
   ]
  },
  {
   "cell_type": "code",
   "execution_count": 20,
   "metadata": {},
   "outputs": [
    {
     "data": {
      "text/plain": [
       "{'fake_score': 0.7, 'real_score': 0.3}"
      ]
     },
     "execution_count": 20,
     "metadata": {},
     "output_type": "execute_result"
    }
   ],
   "source": [
    "# Kiểm tra lại\n",
    "source = 'thoibao.today'\n",
    "author = ''\n",
    "text_title = 'Khám phá sửng sốt về trí nhớ \\\"như thần\\\" của động vật' \n",
    "\n",
    "result = rule_based_classification(source, author, text_title)\n",
    "result\n",
    "# result['fake_score']  # Chỉ in Fake_score"
   ]
  },
  {
   "cell_type": "code",
   "execution_count": null,
   "metadata": {},
   "outputs": [],
   "source": []
  }
 ],
 "metadata": {
  "kernelspec": {
   "display_name": "base",
   "language": "python",
   "name": "python3"
  },
  "language_info": {
   "codemirror_mode": {
    "name": "ipython",
    "version": 3
   },
   "file_extension": ".py",
   "mimetype": "text/x-python",
   "name": "python",
   "nbconvert_exporter": "python",
   "pygments_lexer": "ipython3",
   "version": "3.11.7"
  }
 },
 "nbformat": 4,
 "nbformat_minor": 2
}
